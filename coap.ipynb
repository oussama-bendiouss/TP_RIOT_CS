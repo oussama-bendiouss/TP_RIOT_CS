{
 "cells": [
  {
   "cell_type": "markdown",
   "metadata": {},
   "source": [
    "## Discover CoAP protocol\n",
    "\n",
    "In this excercice we will discover gcoap which provides a high-level interface for writing CoAP messages via RIOT's sock networking API. For a server, gcoap accepts a list of resource paths with callbacks for writing the response. For a client, gcoap provides a function to send a request, with a callback for reading the server response.\n",
    "\n",
    "We propose to expose different kind of CoAP resources:\n",
    "* <code>/riot/cpu</code> returns the name of the cpu running RIOT\n",
    "* <code>/temperature</code> returns LPS331ap sensor value (provided by iotlab-m3 board and supported by RIOT) \n",
    "* <code>/value</code> returns an arbitrary value, equal to 0 by default. This value can be updated using PUT request\n",
    "\n",
    "With the client you will learn how to discover CoAP server resources and request them.\n",
    "\n",
    "### Add CoAP resources\n",
    "\n",
    "1. Add cpu resource\n",
    "\n",
    "* Edit main.c file and add an entry in the resources list with the form {\\<path\\>, \\<method\\>, \\<handler function\\>, \\<context\\>}. You can help yourself and follow the way it was done for riot board CoAP resource\n",
    "    \n",
    "```c\n",
    "{ \"/riot/cpu\", COAP_GET, _riot_cpu_handler, NULL },\n",
    "```\n",
    "\n",
    "* Declare the cpu handler\n",
    "    \n",
    "```c\n",
    "static ssize_t _riot_cpu_handler(coap_pkt_t* pdu, uint8_t *buf, size_t len, void *ctx);\n",
    "```\n",
    "\n",
    "* Implement the cpu handler\n",
    "\n",
    "    For the implementation copy the content of <code>_riot_board_handler</code>  in <code>_riot_cpu_handler</code>  and replace <code>RIOT_BOARD</code> by <code>RIOT_CPU</code> variable.\n",
    "\n",
    "2. Add temperature resource  \n",
    "    \n",
    "* Add LPS331ap module driver into Makefile\n",
    "\n",
    "```mk\n",
    "USEMODULE += lps331ap\n",
    "```\n",
    "\n",
    "* Edit main.c file and include the sensor driver\n",
    "\n",
    "```c\n",
    "#include \"lpsxxx.h\"\n",
    "#include \"lpsxxx_params.h\"\n",
    "```\n",
    "\n",
    "* Add a sensor variable \n",
    "   \n",
    "```c\n",
    "static lpsxxx_t sensor;\n",
    "```\n",
    "    \n",
    "* Initialize of the driver in the main method\n",
    "\n",
    "```c\n",
    "if (lpsxxx_init(&sensor, &lpsxxx_params[0]) != LPSXXX_OK) {\n",
    "    puts(\"LPS331AP initialization failed\");\n",
    "    return 1;\n",
    "}\n",
    "lpsxxx_enable(&sensor);\n",
    "```\n",
    "\n",
    "* Add an entry in resources list\n",
    "\n",
    "```c\n",
    "{ \"/temperature\", COAP_GET, _temperature_handler, NULL },\n",
    "```\n",
    "\n",
    "* Declare the temperature handler\n",
    "\n",
    "```c\n",
    "static ssize_t _temperature_handler(coap_pkt_t* pdu, uint8_t *buf, size_t len, void *ctx);\n",
    "```\n",
    "\n",
    "* Implement the temperature handler\n",
    "\n",
    "```c\n",
    "gcoap_resp_init(pdu, buf, len, COAP_CODE_CONTENT);\n",
    "coap_opt_add_format(pdu, COAP_FORMAT_TEXT);\n",
    "size_t resp_len = coap_opt_finish(pdu, COAP_OPT_FINISH_PAYLOAD);\n",
    "\n",
    "char response[32];\n",
    "int16_t temp;\n",
    "lpsxxx_read_temp(&sensor, &temp);\n",
    "int temp_abs = temp / 100;\n",
    "temp -= temp_abs * 100;\n",
    "sprintf(response, \"%2i.%02i°C\",temp_abs, temp);\n",
    "\n",
    "/* write the temperature value in the response buffer */\n",
    "if (pdu->payload_len >= strlen(response)) {\n",
    "    memcpy(pdu->payload, response, strlen(response));\n",
    "    return resp_len + strlen(response);\n",
    "}\n",
    "else {\n",
    "    puts(\"gcoap: msg buffer too small\");\n",
    "    return gcoap_response(pdu, buf, len, COAP_CODE_INTERNAL_SERVER_ERROR);\n",
    "}\n",
    "```\n",
    "\n",
    "2. Add value resource \n",
    "\n",
    "* Add a _value variable \n",
    "\n",
    "```c\n",
    "static uint16_t _value = 0;\n",
    "```\n",
    "\n",
    "* Add an entry in resources list. You can note that instead of previous cpu and temperature resources with GET request we add PUT and POST method to update the value resource.\n",
    "\n",
    "```c\n",
    " { \"/value\", COAP_GET | COAP_PUT | COAP_POST, _value_handler, NULL },\n",
    "```\n",
    "\n",
    "* Declare the value handler\n",
    "\n",
    "```c\n",
    "static ssize_t _value_handler(coap_pkt_t* pdu, uint8_t *buf, size_t len, void *ctx);\n",
    "```\n",
    "\n",
    "* Implement the value handler\n",
    "\n",
    "```c\n",
    "/* read coap method type in packet */\n",
    "unsigned method_flag = coap_method2flag(coap_get_code_detail(pdu));\n",
    "switch(method_flag) {\n",
    "    case COAP_GET:\n",
    "        gcoap_resp_init(pdu, buf, len, COAP_CODE_CONTENT);\n",
    "        coap_opt_add_format(pdu, COAP_FORMAT_TEXT);\n",
    "        size_t resp_len = coap_opt_finish(pdu, COAP_OPT_FINISH_PAYLOAD);\n",
    "\n",
    "        /* write the response buffer with the request count value */\n",
    "        resp_len += fmt_u16_dec((char *)pdu->payload, _value);\n",
    "        return resp_len;\n",
    "    \n",
    "    case COAP_PUT:\n",
    "    case COAP_POST:\n",
    "        /* convert the payload to an integer and update the internal\n",
    "           value */\n",
    "        if (pdu->payload_len <= 5) {\n",
    "            char payload[6] = { 0 };\n",
    "            memcpy(payload, (char *)pdu->payload, pdu->payload_len);\n",
    "            _value = (uint16_t)strtoul(payload, NULL, 10);\n",
    "            return gcoap_response(pdu, buf, len, COAP_CODE_CHANGED);\n",
    "        }\n",
    "        else {\n",
    "            return gcoap_response(pdu, buf, len, COAP_CODE_BAD_REQUEST);\n",
    "        }\n",
    "}\n",
    "return 0;\n",
    "```\n",
    "\n",
    "Compile with the iotlab-m3 target and verify your code\n"
   ]
  },
  {
   "cell_type": "code",
   "execution_count": null,
   "metadata": {},
   "outputs": [],
   "source": [
    "!make BOARD=iotlab-m3"
   ]
  },
  {
   "cell_type": "markdown",
   "metadata": {},
   "source": [
    "#### Radio settings\n",
    "\n",
    "If you are running this training at the same time as other people on the testbed, it is a good idea to change the default radio configuration to avoid too much collision with others.\n",
    "\n",
    "Use the following cell to give you random values for channel and PAN ID."
   ]
  },
  {
   "cell_type": "code",
   "execution_count": null,
   "metadata": {},
   "outputs": [],
   "source": [
    "import os,binascii,random\n",
    "pan_id = binascii.b2a_hex(os.urandom(2)).decode()\n",
    "channel = random.randint(11, 26)\n",
    "print('Use CHANNEL={}, PAN_ID=0x{}'.format(channel, pan_id))"
   ]
  },
  {
   "cell_type": "markdown",
   "metadata": {},
   "source": [
    "### Submit an experiment on IoT-LAB\n",
    "\n",
    "1. Choose your site (grenoble|lille|strasbourg):"
   ]
  },
  {
   "cell_type": "code",
   "execution_count": null,
   "metadata": {},
   "outputs": [],
   "source": [
    "%env SITE=grenoble"
   ]
  },
  {
   "cell_type": "markdown",
   "metadata": {},
   "source": [
    "2. Submit an experiment with two nodes"
   ]
  },
  {
   "cell_type": "code",
   "execution_count": null,
   "metadata": {},
   "outputs": [],
   "source": [
    "!iotlab-experiment submit -n \"riot-coap\" -d 60 -l 2,archi=m3:at86rf231+site=$SITE"
   ]
  },
  {
   "cell_type": "markdown",
   "metadata": {},
   "source": [
    "3. Wait for the experiment to be in the Running state:"
   ]
  },
  {
   "cell_type": "code",
   "execution_count": null,
   "metadata": {},
   "outputs": [],
   "source": [
    "!iotlab-experiment wait --timeout 30 --cancel-on-timeout"
   ]
  },
  {
   "cell_type": "markdown",
   "metadata": {},
   "source": [
    "**Note:** If the command above returns the message `Timeout reached, cancelling experiment <exp_id>`, try to re-submit your experiment later or try on another site."
   ]
  },
  {
   "cell_type": "markdown",
   "metadata": {},
   "source": [
    "4. Check the nodes allocated to the experiment"
   ]
  },
  {
   "cell_type": "code",
   "execution_count": null,
   "metadata": {},
   "outputs": [],
   "source": [
    "!iotlab-experiment get -ni"
   ]
  },
  {
   "cell_type": "markdown",
   "metadata": {},
   "source": [
    "From here you will choose one node with the CoAP server role and the other one with client role. You need to open a terminal for both nodes\n",
    "\n",
    "5. For server and client node, open a Jupyter terminal (use `File > New > Terminal`) and run the command replacing `<channel> <pan_id>` by the values you obtained in the `Radio settings` section `<id> <site>`with the right values."
   ]
  },
  {
   "cell_type": "raw",
   "metadata": {},
   "source": [
    "make BOARD=iotlab-m3 DEFAULT_CHANNEL=<channel> DEFAULT_PAN_ID=<pan_id> IOTLAB_NODE=m3-<id>.<site>.iot-lab.info -C riot/networking/coap flash term"
   ]
  },
  {
   "cell_type": "markdown",
   "metadata": {},
   "source": [
    "### Request CoAP server with the client\n",
    "\n",
    "1. On the client terminal press \"Enter\" to show the shell prompt. Next type help to show all commands available"
   ]
  },
  {
   "cell_type": "raw",
   "metadata": {},
   "source": [
    "> help\n",
    "help\n",
    "Command              Description\n",
    "---------------------------------------\n",
    "coap                 CoAP example\n",
    "reboot               Reboot the node\n",
    "ps                   Prints information about running threads.\n",
    "ping6                Ping via ICMPv6\n",
    "random_init          initializes the PRNG\n",
    "random_get           returns 32 bit of pseudo randomness\n",
    "nib                  Configure neighbor information base\n",
    "ifconfig             Configure network interfaces"
   ]
  },
  {
   "cell_type": "markdown",
   "metadata": {},
   "source": [
    "2. Verify the radio connectivity between your server and client\n",
    "\n",
    "On the server print the network configuration with the <code>ifconfig</code> command. View the IPv6 link local address with <code>inet6 addr</code> field"
   ]
  },
  {
   "cell_type": "raw",
   "metadata": {},
   "source": [
    "> ifconfig\n",
    "ifconfig\n",
    "Iface  7  HWaddr: 2E:16  Channel: 26  Page: 0  NID: 0x23\n",
    "          Long HWaddr: 15:11:6B:10:65:FA:AE:16 \n",
    "           TX-Power: 0dBm  State: IDLE  max. Retrans.: 3  CSMA Retries: 4 \n",
    "          AUTOACK  ACK_REQ  CSMA  L2-PDU:102 MTU:1280  HL:64  6LO  \n",
    "          IPHC  \n",
    "          Source address length: 8\n",
    "          Link type: wireless\n",
    "          inet6 addr: fe80::1711:6b10:65fa:ae16  scope: local  VAL\n",
    "          inet6 group: ff02::1"
   ]
  },
  {
   "cell_type": "markdown",
   "metadata": {},
   "source": [
    "On the client use <code>ping6</code> command to test radio connectivity with the client"
   ]
  },
  {
   "cell_type": "raw",
   "metadata": {},
   "source": [
    "> ping6 fe80::1711:6b10:65fa:ae16 \n",
    "ping6 fe80::1711:6b10:65fa:ae16 \n",
    "12 bytes from fe80::1711:6b10:65fa:ae16: icmp_seq=0 ttl=64 rssi=-47 dBm time=6.036 ms\n",
    "12 bytes from fe80::1711:6b10:65fa:ae16: icmp_seq=1 ttl=64 rssi=-47 dBm time=6.037 ms\n",
    "12 bytes from fe80::1711:6b10:65fa:ae16: icmp_seq=2 ttl=64 rssi=-47 dBm time=6.351 ms\n",
    "\n",
    "--- fe80::1711:6b10:65fa:ae16 PING statistics ---\n",
    "3 packets transmitted, 3 packets received, 0% packet loss\n",
    "round-trip min/avg/max = 6.036/6.141/6.351 ms"
   ]
  },
  {
   "cell_type": "markdown",
   "metadata": {},
   "source": [
    "3. Discover the CoAP resources available on the server\n",
    "\n",
    "On the server terminal verify that you have a Coap server which listenning on the default port 5683"
   ]
  },
  {
   "cell_type": "raw",
   "metadata": {},
   "source": [
    "> coap info\n",
    "coap info\n",
    "CoAP server is listening on port 5683"
   ]
  },
  {
   "cell_type": "markdown",
   "metadata": {},
   "source": [
    "On the client terminal use the coap cli command to request the server and use the well-known core URL. You can visualize the message ID in the request and the response success code 2.05 "
   ]
  },
  {
   "cell_type": "raw",
   "metadata": {},
   "source": [
    "> coap help           \n",
    "coap help\n",
    "usage: coap <get|post|put|info>\n",
    "\n",
    "> coap get help\n",
    "coap get help\n",
    "usage: coap <get|post|put> [-c] <addr>[%iface] <port> <path> [data]\n",
    "Options\n",
    "    -c  Send confirmably (defaults to non-confirmable)\n",
    "    \n",
    "> coap get fe80::1711:6b10:65fa:ae16 5683 /.well-known/core    \n",
    "coap get fe80::1711:6b10:65fa:ae16 5683 /.well-known/core\n",
    "gcoap_cli: sending msg ID 61401, 23 bytes\n",
    "> gcoap: response Success, code 2.05, 77 bytes\n",
    "</riot/board>,</riot/cpu>,</temperature>,</value>"
   ]
  },
  {
   "cell_type": "markdown",
   "metadata": {},
   "source": [
    "4. Request the CoAP resources\n",
    "\n",
    "Get the board name, cpu name, temperature sensor value and default value endpoint "
   ]
  },
  {
   "cell_type": "raw",
   "metadata": {},
   "source": [
    "> coap get fe80::1711:6b10:65fa:ae16 5683 /riot/board\n",
    "coap get fe80::1711:6b10:65fa:ae16 5683 /riot/board\n",
    "gcoap_cli: sending msg ID 61402, 17 bytes\n",
    "> gcoap: response Success, code 2.05, 9 bytes\n",
    "iotlab-m3\n",
    "\n",
    "\n",
    "> coap get fe80::1711:6b10:65fa:ae16 5683 /riot/cpu  \n",
    "coap get fe80::1711:6b10:65fa:ae16 5683 /riot/cpu\n",
    "gcoap_cli: sending msg ID 61403, 15 bytes\n",
    "> gcoap: response Success, code 2.05, 7 bytes\n",
    "stm32f1\n",
    "\n",
    "> coap get fe80::1711:6b10:65fa:ae16 5683 /temperature\n",
    "coap get fe80::1711:6b10:65fa:ae16 5683 /temperature\n",
    "gcoap_cli: sending msg ID 61404, 18 bytes\n",
    "> gcoap: response Success, code 2.05, 8 bytes\n",
    " 36.59°C\n",
    " \n",
    "> coap get fe80::1711:6b10:65fa:ae16 5683 /value      \n",
    "coap get fe80::1711:6b10:65fa:ae16 5683 /value\n",
    "gcoap_cli: sending msg ID 61405, 12 bytes\n",
    "> gcoap: response Success, code 2.05, 1 bytes\n",
    "0\n"
   ]
  },
  {
   "cell_type": "markdown",
   "metadata": {},
   "source": [
    "Update the value endpoint with a PUT request and verify that the value is updated"
   ]
  },
  {
   "cell_type": "raw",
   "metadata": {},
   "source": [
    "> coap put fe80::1711:6b10:65fa:ae16 5683 /value 8888\n",
    "coap put fe80::1711:6b10:65fa:ae16 5683 /value 8888\n",
    "gcoap_cli: sending msg ID 61406, 18 bytes\n",
    "> gcoap: response Success, code 2.04, empty payload\n",
    "\n",
    "\n",
    "> coap get fe80::1711:6b10:65fa:ae16 5683 /value\n",
    "coap get fe80::1711:6b10:65fa:ae16 5683 /value\n",
    "gcoap_cli: sending msg ID 61407, 12 bytes\n",
    "> gcoap: response Success, code 2.05, 4 bytes\n",
    "8888"
   ]
  },
  {
   "cell_type": "markdown",
   "metadata": {},
   "source": [
    "### Free up the resources\n",
    "\n",
    "Since you finished the training, stop your experiment to free up the experiment nodes:"
   ]
  },
  {
   "cell_type": "code",
   "execution_count": null,
   "metadata": {},
   "outputs": [],
   "source": [
    "!iotlab-experiment stop"
   ]
  },
  {
   "cell_type": "markdown",
   "metadata": {},
   "source": [
    "The serial link connection through SSH will be closed automatically."
   ]
  }
 ],
 "metadata": {
  "kernelspec": {
   "display_name": "Python 3",
   "language": "python",
   "name": "python3"
  },
  "language_info": {
   "codemirror_mode": {
    "name": "ipython",
    "version": 3
   },
   "file_extension": ".py",
   "mimetype": "text/x-python",
   "name": "python",
   "nbconvert_exporter": "python",
   "pygments_lexer": "ipython3",
   "version": "3.7.6"
  }
 },
 "nbformat": 4,
 "nbformat_minor": 4
}
