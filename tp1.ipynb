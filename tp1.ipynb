{
 "cells": [
  {
   "cell_type": "markdown",
   "metadata": {},
   "source": [
    "## TP1 - Réseaux LR-WPAN avec RIOT\n",
    "\n",
    "Durant ce TP, vous allez découvrir et mettre en œuvre des protocoles réseaux sans-fil à courte portée et faible débit (Low Rate Wireless Personal Area Network ou LR-WPAN) couramment utilisés dans le domaine de l'IoT. Plus précisemment, nous nous intéresserons aux protocoles suivants :\n",
    "* IEEE 802.15.4 : un protocole correspondant aux couches physique et liaison de données (MAC) du modèle OSI \n",
    "* 6LowPAN : une adaptation d'IPV6 pour les LR-WPAN\n",
    "* CoAPS: un protocole applicatif permettant à des nœuds contraints en termes de ressources d'échanger entre-eux de l'information ainsi qu'avec des machines situées sur Internet.\n",
    "\n",
    "Ce TP est noté. Vous devez envoyer, avant le 13 mai 2020, un mail à l'addresse guillaume.hiet@centralesupelec.fr avec :\n",
    "* un court compte-rendu au format pdf contenant vos réponses aux questions\n",
    "* le code de votre serveur CoAP modifié permettant de modifier l'état des LED\n",
    "\n",
    "### IEEE 802.15.4 \n",
    "\n",
    "Consultez la [page Wikipedia décrivant le protocole IEEE 802.15.4](https://en.wikipedia.org/wiki/IEEE_802.15.4).\n",
    "Vous pouvez également suivre le cours \"4.2. The 802.15.4 Communication Protocol\" du MOOC \"[Internet of Things with Microcontrollers: a hands-on course](https://www.fun-mooc.fr/courses/course-v1:inria+41020+session01/about)\". \n",
    "\n",
    "**Question 1** : Quelles sont les deux topologies de réseau que l'on peut mettre en place dans un réseau IEEE 802.15.4?\n",
    "\n",
    "**Question 2** : Quels sont les deux principaux modes de contrôle d'accès au medium que l'on peut utiliser avec le protocole IEEE 802.15.4? Décrivez brièvement leurs principes.\n",
    "\n",
    "Par la suite, vous devez réaliser une capture d'un échange de messages entre deux nœuds utilisant le protocole IEEE 802.15.4, en vous inspirant du tutoriel \"[Discover 802.15.4](../riot/networking/802.15.4/802.15.4.ipynb)\". Exécutez les différentes étapes du tutoriel et réalisez une capture des échanges.\n",
    "\n",
    "Pour capturer le traffic réseau, vous devez créer un profil de monitoring. Ces profils permettent de paramétrer le suivi de la consommation et les captures réseaux qui sont gérés par le nœud de contrôle. Ce nœud est connecté à chaque nœud open node. Vous pouvez consulter le [tutoriel sur la gestion des profils en ligne de commande](https://www.iot-lab.info/legacy/tutorials/iotlab-profiletools-client/) et le [tutoriel sur la capture des paquets réseau](https://www.iot-lab.info/legacy/tutorials/monitoring-sniffer-m3/index.html).\n",
    "\n",
    "Créez le profil à l'aide de la commande suivante, que vous exécuterez dans un terminal (`File > New > Terminal`) en spécifiant le canal que vous utilisez :"
   ]
  },
  {
   "cell_type": "raw",
   "metadata": {},
   "source": [
    "iotlab-profile addm3 -n sniff -sniffer -channels <channel>"
   ]
  },
  {
   "cell_type": "markdown",
   "metadata": {},
   "source": [
    "Il faut ensuite mettre à jour la configuration des nœuds pour qu'elle inclut le profil de monitoring. Exécutez la commande suivante dans le terminal :"
   ]
  },
  {
   "cell_type": "markdown",
   "metadata": {},
   "source": [
    "iotlab-node --update-profile sniff"
   ]
  },
  {
   "cell_type": "markdown",
   "metadata": {},
   "source": [
    "Connectez vous ensuite sur le frontend ssh en spécifiant le site utilisé."
   ]
  },
  {
   "cell_type": "raw",
   "metadata": {},
   "source": [
    "ssh $IOTLAB_LOGIN@<site>.iot-lab.info"
   ]
  },
  {
   "cell_type": "markdown",
   "metadata": {},
   "source": [
    "Depuis le frontend ssh, exécutez la commande `sniffer_aggregator`. Cet outil agrége les  liens de capture des différents nœuds. Par défaut, il encapsule les paquets en utilisant ZigBee Encapsulation Protocol (ZEP). L'option -r permet d'extraire la payload 802.15.4 et de l'enregistrer directement dans un fichier pcap qui peut être lu par [Wireshark](https://en.wikipedia.org/wiki/Wireshark)."
   ]
  },
  {
   "cell_type": "raw",
   "metadata": {},
   "source": [
    "<login>@<site>:~$ sniffer_aggregator -r -d -o snif.pcap"
   ]
  },
  {
   "cell_type": "markdown",
   "metadata": {},
   "source": [
    "A l'aide de la commande `scp`, rapatriez le fichier de capture sur votre machine et analysez-le avec Wireshark pour répondre aux questions suivantes (réalisez des captures d'écran).\n",
    "\n",
    "**Question 3:** Quelle est la longueur des addresses MAC source et destination?\n",
    "\n",
    "**Question 4:** Quels champs de l'en-tête 802.15.4 permettent au destinataire de connaître la taille des adresses utilisées dans le paquet? \n",
    "\n",
    "**Question 5:** Est-ce que l'émeteur demande un acquitement des paquets (la solution de monitoring réseau ne permet pas de capturer les acquitements, il n'est donc pas possible de les observer dans la trace)?"
   ]
  },
  {
   "cell_type": "markdown",
   "metadata": {},
   "source": [
    "#### 6LoWPAN\n",
    "Consultez la [page Wikipedia décrivant le protocole 6LoWPAN](https://fr.wikipedia.org/wiki/6LoWPAN).\n",
    "Vous pouvez également suivre le cours \"4.3. 6LoWPAN: IPV6 for the Internet\" du MOOC \"[Internet of Things with Microcontrollers: a hands-on course](https://www.fun-mooc.fr/courses/course-v1:inria+41020+session01/about)\". \n",
    "\n",
    "**Question 6** : Quelle est la taille minimale de la MTU pour IPV6? Quelle est la taille standard des paquets IEEE 802.15.4?\n",
    "\n",
    "Pour résoudre le problème de la limitation de la taille des paquets IEEE 802.15.4, 6LoWPAN s'appuie principalement sur deux méchanismes:\n",
    "* la compression de l'en-tête IP (LOWPAN_IPHC), définie dans la [RFC 6282](https://tools.ietf.org/html/rfc6282) \n",
    "* la fragmentation, définie dans la [RFC 4944](https://tools.ietf.org/html/rfc4944)\n",
    "\n",
    "En outre, 6LoWPAN utilise l'autoconfiguration sans état pour déterminer l'adresses IPV6 des nœuds. Cette adresse est composée d'un identifiant unique étendu (EUI) et du préfixe du réseau IPV6. L'EUI est construit à partir de l'adresse MAC de l'interface IEEE 802.15.4. Le préfixe est annoncé par le routeur via ICMPV6.\n",
    "\n",
    "Suivez le tutoriel \"[Discover IPv6 and 6LoWPAN](../riot/networking/ipv6/ipv6.ipynb)\"\n",
    "\n",
    "#### CoAP\n",
    "Consultez la [page Wikipedia décrivant le protocole CoAP](https://fr.wikipedia.org/wiki/CoAP).\n",
    "Vous pouvez également suivre le cours \"4.4. CoAP: the Internet Application Protocol\" du MOOC \"[Internet of Things with Microcontrollers: a hands-on course](https://www.fun-mooc.fr/courses/course-v1:inria+41020+session01/about)\". \n",
    "\n",
    "**Question 7** : Quelles sont les requêtes que peut émettre un client CoAP?\n",
    "\n",
    "**Question 8** : Quelle est la différence entre le message ID et le token? A quoi servent ces deux champs?\n",
    "\n",
    "**Question 9** : Comment un client peut-il découvrir les ressources disponibles sur un serveur?\n",
    "\n",
    "**Question 10** : Quel champ d'une requête GET permet à un client de s'abonner à une ressource afin d'en observer les modifications, à la manière du patron [Observer](https://en.wikipedia.org/wiki/Observer_pattern)?\n",
    "\n",
    "Suivez le tutoriel \"[Discover CoAP protocol](../riot/networking/coap/coap.ipynb)\"\n",
    "\n",
    "Vous devez ensuite modifier le code du serveur développé dans ce tutoriel pour permettre à un client de modifier l'état des LED du nœud M3 hébergeant le serveur. Les LED sont connectées à des ports GPIO de la carte iotlab-M3.\n",
    "\n",
    "Consultez la documentation de RIOT concernant [l'utilisation des GPIO](https://doc.riot-os.org/group__drivers__periph__gpio.html).\n",
    "\n",
    "**Question 11** : A partir de l'analyse du code source de RIOT, identifiez les numéro des PIN et de port sur lequels sont connectés les trois LED de la carte iotlab-M3 (indice : il s'agit d'une configuration générique des cartes iotlab)\n",
    "\n",
    "**Question 12** : Quelles macros permettent de changer l'état de chacune des LED?\n",
    "\n",
    "Le TP étant réalisé à distance (confinement oblige...), il n'est malheureusement pas aisé de vérifer l'état des LED afin de valider votre code. Toutefois, on peut noter que l'état des LED influence la consommation électrique, qu'il est possible de mesurer à distance. Afin de vérifier ce principe, on vous propose de réaliser un chenillard et de mesurer la consommation électrique du nœud.\n",
    "\n",
    "**Question 13** : Modifiez le code du fichier 'main.c' du TP1. Vous devez implémenter trois thread supplémentaires. Chaque tread doit  périodiquement modifier l'état d'une des LED puis s'endormir. On choisira les fréquences des thread telles que f1 = 2 x f2 = 4 x f3. Le thread principal (fonction main) affichera régulièrement l'état des trois LED.\n",
    "\n",
    "Initiez une nouvelles expérience à l'aide de la commande suivante :"
   ]
  },
  {
   "cell_type": "code",
   "execution_count": null,
   "metadata": {},
   "outputs": [],
   "source": [
    "!iotlab-experiment submit -n \"riot-sensors\" -d 60 -l 1,archi=m3:at86rf231+site=grenoble"
   ]
  },
  {
   "cell_type": "markdown",
   "metadata": {},
   "source": [
    "Attendez que l'expérience soit dans l'état Running"
   ]
  },
  {
   "cell_type": "code",
   "execution_count": null,
   "metadata": {},
   "outputs": [],
   "source": [
    "!iotlab-experiment wait --timeout 60 --cancel-on-timeout"
   ]
  },
  {
   "cell_type": "markdown",
   "metadata": {},
   "source": [
    "Vérifier qu'un nœud vous a bien été attribué"
   ]
  },
  {
   "cell_type": "code",
   "execution_count": null,
   "metadata": {},
   "outputs": [],
   "source": [
    "!iotlab-experiment get --nodes"
   ]
  },
  {
   "cell_type": "markdown",
   "metadata": {},
   "source": [
    "Ouvrez un terminal et exécutez les commandes suivantes pour flasher le firmware et ouvrir un terminal sur le nœud."
   ]
  },
  {
   "cell_type": "raw",
   "metadata": {},
   "source": [
    "make IOTLAB_NODE=auto-ssh flash\n",
    "make IOTLAB_NODE=auto-ssh term"
   ]
  },
  {
   "cell_type": "markdown",
   "metadata": {},
   "source": [
    "Afin de suivre la consomation électrique du nœud, il faut créer un profil de monitoring. Pour cela, exécutez la commande suivante dans le terminal:"
   ]
  },
  {
   "cell_type": "raw",
   "metadata": {},
   "source": [
    "iotlab-profile addm3 -n measure -p dc -current -voltage -power -period 8244 -avg 4"
   ]
  },
  {
   "cell_type": "markdown",
   "metadata": {},
   "source": [
    "Il faut ensuite mettre à jour le profil sur le nœud:"
   ]
  },
  {
   "cell_type": "raw",
   "metadata": {},
   "source": [
    "iotlab-node --update-profile measure"
   ]
  },
  {
   "cell_type": "markdown",
   "metadata": {},
   "source": [
    "Vous devez maintenant vous connecter au frontend SSH:"
   ]
  },
  {
   "cell_type": "raw",
   "metadata": {},
   "source": [
    "ssh -X <login>@grenoble.iot-lab.info"
   ]
  },
  {
   "cell_type": "markdown",
   "metadata": {},
   "source": [
    "Vous devez observer un fichier contenant les informations de consomation électrique :"
   ]
  },
  {
   "cell_type": "raw",
   "metadata": {},
   "source": [
    "<login>@grenoble:~$ less ~/.iot-lab/<experiment id>/consumption/m3-<id>.oml"
   ]
  },
  {
   "cell_type": "markdown",
   "metadata": {},
   "source": [
    "Pour ceux d'entre-vous qui utilisent Linux (ou Mac OSX avec XQuartz), vous pouvez générer directement le graphe d'évolution de la consomation à l'aide de la commande suivante. Pour les autres, vous devez rapatrier le fichier sur votre ordinateur à l'aide de la commande `scp` et utiliser un outil de votre choix (Matplotlib, etc.)"
   ]
  },
  {
   "cell_type": "raw",
   "metadata": {},
   "source": [
    "<login>@grenoble:~$ plot_oml_consum -p -i ~/.iot-lab/<experiment id>/consumption/m3-<id>.oml"
   ]
  },
  {
   "cell_type": "markdown",
   "metadata": {},
   "source": [
    "Si votre code est correct, vous devez observer une variation de la consommation en fonction de l'extinction ou de l'allumage des différentes LED.\n",
    "\n",
    "**Question 14** : Ajoutez le graphe de variation de la consommation à votre compte-rendu. Quel est la puissance moyenne dissipée d'une LED?\n",
    "\n",
    "**Question 15** : Modifier le code du tutoriel CoAP pour que le serveur permette de modifier l'état des LED via des requêtes CoAP. Vous fournirez le code du serveur dans votre compte-rendu."
   ]
  },
  {
   "cell_type": "markdown",
   "metadata": {},
   "source": [
    "### Libérerez les resources\n",
    "\n",
    "N'oubliez pas de libérer les ressources à la fin du TP :"
   ]
  },
  {
   "cell_type": "code",
   "execution_count": null,
   "metadata": {},
   "outputs": [],
   "source": [
    "!iotlab-experiment stop"
   ]
  }
 ],
 "metadata": {
  "kernelspec": {
   "display_name": "Python 3",
   "language": "python",
   "name": "python3"
  },
  "language_info": {
   "codemirror_mode": {
    "name": "ipython",
    "version": 3
   },
   "file_extension": ".py",
   "mimetype": "text/x-python",
   "name": "python",
   "nbconvert_exporter": "python",
   "pygments_lexer": "ipython3",
   "version": "3.7.6"
  }
 },
 "nbformat": 4,
 "nbformat_minor": 4
}
